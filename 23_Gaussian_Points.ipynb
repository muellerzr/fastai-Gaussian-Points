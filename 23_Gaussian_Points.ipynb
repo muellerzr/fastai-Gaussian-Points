{
  "nbformat": 4,
  "nbformat_minor": 0,
  "metadata": {
    "colab": {
      "name": "23_Gaussian_Points.ipynb",
      "provenance": []
    },
    "kernelspec": {
      "name": "python3",
      "display_name": "Python 3"
    },
    "accelerator": "GPU"
  },
  "cells": [
    {
      "cell_type": "code",
      "metadata": {
        "id": "bRKWKBfIb1Ha",
        "colab_type": "code",
        "colab": {}
      },
      "source": [
        "#default_exp gaussian"
      ],
      "execution_count": 0,
      "outputs": []
    },
    {
      "cell_type": "code",
      "metadata": {
        "id": "C3ZxHssIIhRO",
        "colab_type": "code",
        "colab": {}
      },
      "source": [
        "#Run once per session\n",
        "import os\n",
        "!pip install -q feather-format kornia pyarrow wandb nbdev fastprogress --upgrade \n",
        "!pip install torch==1.3.1\n",
        "!pip install torchvision==0.4.2\n",
        "!pip install Pillow==6.2.1 --upgrade\n",
        "!pip install git+https://github.com/fastai/fastai2.git\n",
        "!pip install git+https://github.com/fastai/fastcore.git\n",
        "os._exit(00)"
      ],
      "execution_count": 0,
      "outputs": []
    },
    {
      "cell_type": "markdown",
      "metadata": {
        "id": "PWyYj6UaJ2oD",
        "colab_type": "text"
      },
      "source": [
        "## Gaussian Heatmaps\n",
        "\n",
        "We'll make a new `Transform` built ontop of the `Points` block which allows for quick conversion. This will be helpful as we can now just run any `Point` transform along with these and then build our heatmaps at the very end"
      ]
    },
    {
      "cell_type": "code",
      "metadata": {
        "id": "zuO-EVxhInFa",
        "colab_type": "code",
        "colab": {}
      },
      "source": [
        "#export\n",
        "from fastai2.vision.all import *"
      ],
      "execution_count": 0,
      "outputs": []
    },
    {
      "cell_type": "markdown",
      "metadata": {
        "id": "8pdKieqNJ6MK",
        "colab_type": "text"
      },
      "source": [
        "To do so, we'll use a gaussian distribution with a `sigma` radius centered around `x` and `y`"
      ]
    },
    {
      "cell_type": "code",
      "metadata": {
        "id": "MSPrfvrOJ49S",
        "colab_type": "code",
        "colab": {}
      },
      "source": [
        "x1 = np.arange(0, 224, 1, float)\n",
        "y1 = x1[:, np.newaxis]"
      ],
      "execution_count": 0,
      "outputs": []
    },
    {
      "cell_type": "code",
      "metadata": {
        "id": "sqcPi9jOJ6_6",
        "colab_type": "code",
        "colab": {}
      },
      "source": [
        "test_eq(y1.shape, (224,1))\n",
        "test_eq(x1.shape, (224,))"
      ],
      "execution_count": 0,
      "outputs": []
    },
    {
      "cell_type": "code",
      "metadata": {
        "id": "MlCQP9tKKAGS",
        "colab_type": "code",
        "colab": {}
      },
      "source": [
        "#export\n",
        "def _check_corners(p, feat_stride, heatmap_size, tmp_size, is_bool=True):\n",
        "  \"Checks to ensure the point can be on the heatmap\"\n",
        "  mu_x = int(p[0] / feat_stride[0] + .5)\n",
        "  mu_y = int(p[1] / feat_stride[1] + .5)\n",
        "  ul = [int(mu_x - tmp_size), int(mu_y - tmp_size)]\n",
        "  br = [int(mu_x + tmp_size + 1), int(mu_y + tmp_size + 1)]\n",
        "  if ul[0] >= heatmap_size[0] or ul[1] >= heatmap_size[1] \\\n",
        "          or br[0] < 0 or br[1] < 0:\n",
        "          return False\n",
        "      #targ[i] = 0\n",
        "  return True if is_bool else [ul, br]"
      ],
      "execution_count": 0,
      "outputs": []
    },
    {
      "cell_type": "code",
      "metadata": {
        "id": "qLG7hu7IKmh9",
        "colab_type": "code",
        "colab": {}
      },
      "source": [
        "#export\n",
        "def _build_heatmap(heatmap_size, ul, br):\n",
        "  \"Builds gaussian heatmap from corners\"\n",
        "  g_x = max(0, -ul[0]), min(br[0], heatmap_size[0]) - ul[0]\n",
        "  g_y = max(0, -ul[1]), min(br[1], heatmap_size[1]) - ul[1]\n",
        "\n",
        "  img_x = max(0, ul[0]), min(br[0], heatmap_size[0])\n",
        "  img_y = max(0, ul[1]), min(br[1], heatmap_size[1])\n",
        "\n",
        "  return g_x, g_y, img_x, img_y"
      ],
      "execution_count": 0,
      "outputs": []
    },
    {
      "cell_type": "code",
      "metadata": {
        "id": "8DMvke_6LZmk",
        "colab_type": "code",
        "colab": {}
      },
      "source": [
        "#export\n",
        "def _build_targ(targ, g, g_x, g_y, img_x, img_y):\n",
        "  \"Builds target from adjusted gaussian heatmap\"\n",
        "  targ[img_y[0]:img_y[1], img_x[0]:img_x[1]] = g[g_y[0]:g_y[1], g_x[0]:g_x[1]]\n",
        "  return targ"
      ],
      "execution_count": 0,
      "outputs": []
    },
    {
      "cell_type": "code",
      "metadata": {
        "id": "WegCTM3gLpRI",
        "colab_type": "code",
        "colab": {}
      },
      "source": [
        "#export\n",
        "def _generate_targs(points:TensorPoint, sig:int=1, img_size=None):\n",
        "  \"Generates a gaussian heatmap from `p` points\"\n",
        "  tmp_size = sig*3\n",
        "  heatmap_size = (img_size[0]//4, img_size[1]//4)\n",
        "  feat_stride = np.asarray(img_size)/np.asarray(heatmap_size)\n",
        "  targ = np.zeros((len(points),\n",
        "                   heatmap_size[1],\n",
        "                   heatmap_size[0]))\n",
        "  for i, p in enumerate(points):\n",
        "    if not np.array_equal(p, [-1,-1]):\n",
        "      if not _check_corners(p, feat_stride, heatmap_size, tmp_size):\n",
        "        targ[i] = 0\n",
        "      else:\n",
        "        size = 2*tmp_size+1\n",
        "        x = np.arange(0, size, 1, np.float32)\n",
        "        y = x[:, np.newaxis]\n",
        "        x0 = y0 = size // 2\n",
        "        g = np.exp(- ((x - x0) ** 2 + (y - y0) ** 2) / (2 * sig ** 2))\n",
        "        ul, br = _check_corners(p, feat_stride, heatmap_size, tmp_size, False)\n",
        "        g_x, g_y, img_x, img_y = _build_heatmap(heatmap_size, ul, br)\n",
        "        targ[i] = _build_targ(targ[i], g, g_x, g_y, img_x, img_y)\n",
        "\n",
        "  return targ"
      ],
      "execution_count": 0,
      "outputs": []
    },
    {
      "cell_type": "code",
      "metadata": {
        "id": "zICfQYUUNk7-",
        "colab_type": "code",
        "colab": {}
      },
      "source": [
        "pts = [(24, 112)]"
      ],
      "execution_count": 0,
      "outputs": []
    },
    {
      "cell_type": "code",
      "metadata": {
        "id": "ESzyTAqZNmpA",
        "colab_type": "code",
        "colab": {}
      },
      "source": [
        "hmp = _generate_targs(pts,1, (224, 224))"
      ],
      "execution_count": 0,
      "outputs": []
    },
    {
      "cell_type": "code",
      "metadata": {
        "id": "pdq_q9wyNnjf",
        "colab_type": "code",
        "colab": {
          "base_uri": "https://localhost:8080/",
          "height": 284
        },
        "outputId": "20faa215-2a93-4f71-8303-7eb3b6ce8719"
      },
      "source": [
        "plt.imshow(hmp[0])"
      ],
      "execution_count": 174,
      "outputs": [
        {
          "output_type": "execute_result",
          "data": {
            "text/plain": [
              "<matplotlib.image.AxesImage at 0x7f6f7e8204a8>"
            ]
          },
          "metadata": {
            "tags": []
          },
          "execution_count": 174
        },
        {
          "output_type": "display_data",
          "data": {
            "image/png": "[encoded data removed]",
            "text/plain": [
              "<Figure size 432x288 with 1 Axes>"
            ]
          },
          "metadata": {
            "tags": []
          }
        }
      ]
    },
    {
      "cell_type": "code",
      "metadata": {
        "id": "m4ixCG5NN86w",
        "colab_type": "code",
        "colab": {}
      },
      "source": [
        "test_eq(np.unravel_index(hmp[0].argmax(), hmp[0].shape), (28,6))"
      ],
      "execution_count": 0,
      "outputs": []
    },
    {
      "cell_type": "markdown",
      "metadata": {
        "id": "UTsStdjhOJbh",
        "colab_type": "text"
      },
      "source": [
        "Now we need to undo it"
      ]
    },
    {
      "cell_type": "code",
      "metadata": {
        "id": "wrvEC6-kOCBg",
        "colab_type": "code",
        "colab": {}
      },
      "source": [
        "path = untar_data(URLs.MNIST_SAMPLE)"
      ],
      "execution_count": 0,
      "outputs": []
    },
    {
      "cell_type": "code",
      "metadata": {
        "id": "G291HGinONgI",
        "colab_type": "code",
        "colab": {}
      },
      "source": [
        "img = get_image_files(path)[0]"
      ],
      "execution_count": 0,
      "outputs": []
    },
    {
      "cell_type": "code",
      "metadata": {
        "id": "pqb9pW3NORzY",
        "colab_type": "code",
        "colab": {}
      },
      "source": [
        "im = PILImage.create(img)"
      ],
      "execution_count": 0,
      "outputs": []
    },
    {
      "cell_type": "code",
      "metadata": {
        "id": "W49wpOYjOSiQ",
        "colab_type": "code",
        "colab": {
          "base_uri": "https://localhost:8080/",
          "height": 374
        },
        "outputId": "b4fdd3d1-9b02-4b7c-a730-4ba03c2ffeaf"
      },
      "source": [
        "im.show(figsize=(6,6))"
      ],
      "execution_count": 31,
      "outputs": [
        {
          "output_type": "execute_result",
          "data": {
            "text/plain": [
              "<matplotlib.axes._subplots.AxesSubplot at 0x7f6f7ea405f8>"
            ]
          },
          "metadata": {
            "tags": []
          },
          "execution_count": 31
        },
        {
          "output_type": "display_data",
          "data": {
            "image/png": "[encoded data removed]",
            "text/plain": [
              "<Figure size 432x432 with 1 Axes>"
            ]
          },
          "metadata": {
            "tags": []
          }
        }
      ]
    },
    {
      "cell_type": "code",
      "metadata": {
        "id": "4jxGCY6YOUiw",
        "colab_type": "code",
        "colab": {}
      },
      "source": [
        "pnts = np.array([(0,28), (28,28), (28,0), (0,0), (14,14)])"
      ],
      "execution_count": 0,
      "outputs": []
    },
    {
      "cell_type": "code",
      "metadata": {
        "id": "Zf5FPTsoOiQ5",
        "colab_type": "code",
        "colab": {}
      },
      "source": [
        "hmp = _generate_targs(pnts, 1, (28,28))"
      ],
      "execution_count": 0,
      "outputs": []
    },
    {
      "cell_type": "markdown",
      "metadata": {
        "id": "mVAaGDSjO6PD",
        "colab_type": "text"
      },
      "source": [
        "Our \"boxes\" will be the size of the image since we have no target bodies"
      ]
    },
    {
      "cell_type": "code",
      "metadata": {
        "id": "1yCQwbvnO3Qq",
        "colab_type": "code",
        "colab": {}
      },
      "source": [
        "boxes = np.asarray([[0,0,28,28]])"
      ],
      "execution_count": 0,
      "outputs": []
    },
    {
      "cell_type": "code",
      "metadata": {
        "id": "-4QtVfCEPH_7",
        "colab_type": "code",
        "colab": {}
      },
      "source": [
        "#export\n",
        "def get_points(x:tensor, size:array):\n",
        "  \"Extract a point from a heatmap and convert it\"\n",
        "  boxes = np.asarray([[0,0,size[1], size[0]]])\n",
        "  pts = []\n",
        "  for j, pnt in enumerate(x):\n",
        "    pt = np.unravel_index(np.argmax(pnt), (size[0]//4, size[1]//4))\n",
        "    y1 = int(pt[0] * 1. / (size[0]//4) * (boxes[0][3] - boxes[0][1]) + boxes[0][1])\n",
        "    x1 = int(pt[1] * 1. / (size[1]//4) * (boxes[0][2] - boxes[0][0]) + boxes[0][0])\n",
        "    pts.append([x1,y1])\n",
        "  return pts"
      ],
      "execution_count": 0,
      "outputs": []
    },
    {
      "cell_type": "code",
      "metadata": {
        "id": "kUvEMrN6PyBQ",
        "colab_type": "code",
        "colab": {
          "base_uri": "https://localhost:8080/",
          "height": 34
        },
        "outputId": "26c67e4b-4d01-473c-dcdf-3d83bd2ab3ca"
      },
      "source": [
        "is_close(get_points(hmp, [28,28]), pnts, eps=4.01)"
      ],
      "execution_count": 189,
      "outputs": [
        {
          "output_type": "execute_result",
          "data": {
            "text/plain": [
              "True"
            ]
          },
          "metadata": {
            "tags": []
          },
          "execution_count": 189
        }
      ]
    },
    {
      "cell_type": "markdown",
      "metadata": {
        "id": "pFSgWtW5Vavq",
        "colab_type": "text"
      },
      "source": [
        "28x28 image size is off by ~4 pixels, let's try a larger image"
      ]
    },
    {
      "cell_type": "code",
      "metadata": {
        "id": "PJMrYsMXRSpS",
        "colab_type": "code",
        "colab": {}
      },
      "source": [
        "pnts = np.array([(175, 160), (239, 162), (199, 199), (149, 121), (137, 78), \n",
        "        (166, 93), (281, 101), (312, 96), (296, 133)])"
      ],
      "execution_count": 0,
      "outputs": []
    },
    {
      "cell_type": "code",
      "metadata": {
        "id": "r_FZyp1XVgY5",
        "colab_type": "code",
        "colab": {}
      },
      "source": [
        "hmp = _generate_targs(pnts, 1, (375,500))"
      ],
      "execution_count": 0,
      "outputs": []
    },
    {
      "cell_type": "code",
      "metadata": {
        "id": "FWZ3dIGsWAjz",
        "colab_type": "code",
        "colab": {
          "base_uri": "https://localhost:8080/",
          "height": 170
        },
        "outputId": "f3579527-8a4f-4818-d78f-08764076b3e7"
      },
      "source": [
        "get_points(hmp, (500,375))"
      ],
      "execution_count": 192,
      "outputs": [
        {
          "output_type": "execute_result",
          "data": {
            "text/plain": [
              "[[173, 160],\n",
              " [237, 164],\n",
              " [197, 200],\n",
              " [149, 120],\n",
              " [137, 80],\n",
              " [165, 92],\n",
              " [282, 100],\n",
              " [310, 96],\n",
              " [294, 132]]"
            ]
          },
          "metadata": {
            "tags": []
          },
          "execution_count": 192
        }
      ]
    },
    {
      "cell_type": "code",
      "metadata": {
        "id": "NwlyPTXUVmOx",
        "colab_type": "code",
        "colab": {
          "base_uri": "https://localhost:8080/",
          "height": 34
        },
        "outputId": "1b54f914-a2b4-4720-97b3-e7281cffba63"
      },
      "source": [
        "is_close(get_points(hmp, (500,375)), pnts, eps=3)"
      ],
      "execution_count": 193,
      "outputs": [
        {
          "output_type": "execute_result",
          "data": {
            "text/plain": [
              "True"
            ]
          },
          "metadata": {
            "tags": []
          },
          "execution_count": 193
        }
      ]
    },
    {
      "cell_type": "markdown",
      "metadata": {
        "id": "GQVf0xgPW3Be",
        "colab_type": "text"
      },
      "source": [
        "On larger images (500,375), it's only off by 3 pixels, which is not bad"
      ]
    },
    {
      "cell_type": "code",
      "metadata": {
        "id": "aEu7HtfqYueV",
        "colab_type": "code",
        "colab": {}
      },
      "source": [
        "points = tensor([[0,0],\n",
        "          [112,112],\n",
        "          [0,112],\n",
        "          [112,0]])"
      ],
      "execution_count": 0,
      "outputs": []
    },
    {
      "cell_type": "code",
      "metadata": {
        "id": "P2Y9XTqmY95G",
        "colab_type": "code",
        "colab": {}
      },
      "source": [
        "maps = _generate_targs(points, 1, (224,224))"
      ],
      "execution_count": 0,
      "outputs": []
    },
    {
      "cell_type": "code",
      "metadata": {
        "id": "RYn7g9wWY-vW",
        "colab_type": "code",
        "colab": {}
      },
      "source": [
        "test_eq(np.unravel_index(maps[0].argmax(), maps[0].shape), (0,0))\n",
        "test_eq(np.unravel_index(maps[1].argmax(), maps[1].shape), (28,28))\n",
        "test_eq(np.unravel_index(maps[2].argmax(), maps[2].shape), (28,0))\n",
        "test_eq(np.unravel_index(maps[3].argmax(), maps[3].shape), (0,28))"
      ],
      "execution_count": 0,
      "outputs": []
    },
    {
      "cell_type": "markdown",
      "metadata": {
        "id": "F_H-0uLvZEM-",
        "colab_type": "text"
      },
      "source": [
        "Now let's integrate it into `fastai`. This is a simple transform for any `TensorPoint`."
      ]
    },
    {
      "cell_type": "code",
      "metadata": {
        "id": "-72sFCQ0ZBGG",
        "colab_type": "code",
        "colab": {}
      },
      "source": [
        "#export\n",
        "class TensorMaps(Transform):\n",
        "  \"Convert points into heatmaps\"\n",
        "  order = 99\n",
        "  def __init__(self, sig=1): self.sig=sig\n",
        "\n",
        "  def encodes(self, x:TensorPoint):\n",
        "    x = np.array(x.get_meta('img_size'))\n",
        "    x = (x+1)*x/2\n",
        "    return _generate_targs(x, self.sig, x.get_meta('img_size'))"
      ],
      "execution_count": 0,
      "outputs": []
    },
    {
      "cell_type": "code",
      "metadata": {
        "id": "jkwc2Zc5aAHv",
        "colab_type": "code",
        "colab": {}
      },
      "source": [
        "#export\n",
        "GaussianBlock = TransformBlock(type_tfms=TensorPoint.create, item_tfms=[PointScaler, TensorMaps])"
      ],
      "execution_count": 0,
      "outputs": []
    },
    {
      "cell_type": "code",
      "metadata": {
        "id": "syAkIGRhbqTB",
        "colab_type": "code",
        "colab": {}
      },
      "source": [
        ""
      ],
      "execution_count": 0,
      "outputs": []
    }
  ]
}